{
  "nbformat": 4,
  "nbformat_minor": 0,
  "metadata": {
    "colab": {
      "provenance": []
    },
    "kernelspec": {
      "name": "python3",
      "display_name": "Python 3"
    },
    "language_info": {
      "name": "python"
    }
  },
  "cells": [
    {
      "cell_type": "code",
      "execution_count": 1,
      "metadata": {
        "colab": {
          "base_uri": "https://localhost:8080/"
        },
        "id": "rzDc73352aHh",
        "outputId": "b47ecdd1-bc92-4a4f-c008-2f49baeff3ce"
      },
      "outputs": [
        {
          "output_type": "stream",
          "name": "stdout",
          "text": [
            "Requirement already satisfied: pyspark in /usr/local/lib/python3.12/dist-packages (3.5.1)\n",
            "Requirement already satisfied: py4j==0.10.9.7 in /usr/local/lib/python3.12/dist-packages (from pyspark) (0.10.9.7)\n"
          ]
        }
      ],
      "source": [
        "!pip install pyspark\n"
      ]
    },
    {
      "cell_type": "code",
      "source": [
        "from pyspark.sql import SparkSession\n",
        "\n",
        "spark = SparkSession.builder.appName(\"SmartLoan\").getOrCreate()\n",
        "print(spark.version)\n"
      ],
      "metadata": {
        "colab": {
          "base_uri": "https://localhost:8080/"
        },
        "id": "6YFNT_xo2zjN",
        "outputId": "e7b7dfd9-0e69-4ae1-f684-96f06b2e2f11"
      },
      "execution_count": 2,
      "outputs": [
        {
          "output_type": "stream",
          "name": "stdout",
          "text": [
            "3.5.1\n"
          ]
        }
      ]
    },
    {
      "cell_type": "code",
      "source": [
        "from google.colab import files\n",
        "\n",
        "uploaded = files.upload()"
      ],
      "metadata": {
        "colab": {
          "base_uri": "https://localhost:8080/",
          "height": 73
        },
        "id": "3Apf0-Nd__td",
        "outputId": "70152959-3419-4712-dcff-ecf68e055820"
      },
      "execution_count": 54,
      "outputs": [
        {
          "output_type": "display_data",
          "data": {
            "text/plain": [
              "<IPython.core.display.HTML object>"
            ],
            "text/html": [
              "\n",
              "     <input type=\"file\" id=\"files-47d87475-24a5-4bcf-9bd4-0a31f75c829a\" name=\"files[]\" multiple disabled\n",
              "        style=\"border:none\" />\n",
              "     <output id=\"result-47d87475-24a5-4bcf-9bd4-0a31f75c829a\">\n",
              "      Upload widget is only available when the cell has been executed in the\n",
              "      current browser session. Please rerun this cell to enable.\n",
              "      </output>\n",
              "      <script>// Copyright 2017 Google LLC\n",
              "//\n",
              "// Licensed under the Apache License, Version 2.0 (the \"License\");\n",
              "// you may not use this file except in compliance with the License.\n",
              "// You may obtain a copy of the License at\n",
              "//\n",
              "//      http://www.apache.org/licenses/LICENSE-2.0\n",
              "//\n",
              "// Unless required by applicable law or agreed to in writing, software\n",
              "// distributed under the License is distributed on an \"AS IS\" BASIS,\n",
              "// WITHOUT WARRANTIES OR CONDITIONS OF ANY KIND, either express or implied.\n",
              "// See the License for the specific language governing permissions and\n",
              "// limitations under the License.\n",
              "\n",
              "/**\n",
              " * @fileoverview Helpers for google.colab Python module.\n",
              " */\n",
              "(function(scope) {\n",
              "function span(text, styleAttributes = {}) {\n",
              "  const element = document.createElement('span');\n",
              "  element.textContent = text;\n",
              "  for (const key of Object.keys(styleAttributes)) {\n",
              "    element.style[key] = styleAttributes[key];\n",
              "  }\n",
              "  return element;\n",
              "}\n",
              "\n",
              "// Max number of bytes which will be uploaded at a time.\n",
              "const MAX_PAYLOAD_SIZE = 100 * 1024;\n",
              "\n",
              "function _uploadFiles(inputId, outputId) {\n",
              "  const steps = uploadFilesStep(inputId, outputId);\n",
              "  const outputElement = document.getElementById(outputId);\n",
              "  // Cache steps on the outputElement to make it available for the next call\n",
              "  // to uploadFilesContinue from Python.\n",
              "  outputElement.steps = steps;\n",
              "\n",
              "  return _uploadFilesContinue(outputId);\n",
              "}\n",
              "\n",
              "// This is roughly an async generator (not supported in the browser yet),\n",
              "// where there are multiple asynchronous steps and the Python side is going\n",
              "// to poll for completion of each step.\n",
              "// This uses a Promise to block the python side on completion of each step,\n",
              "// then passes the result of the previous step as the input to the next step.\n",
              "function _uploadFilesContinue(outputId) {\n",
              "  const outputElement = document.getElementById(outputId);\n",
              "  const steps = outputElement.steps;\n",
              "\n",
              "  const next = steps.next(outputElement.lastPromiseValue);\n",
              "  return Promise.resolve(next.value.promise).then((value) => {\n",
              "    // Cache the last promise value to make it available to the next\n",
              "    // step of the generator.\n",
              "    outputElement.lastPromiseValue = value;\n",
              "    return next.value.response;\n",
              "  });\n",
              "}\n",
              "\n",
              "/**\n",
              " * Generator function which is called between each async step of the upload\n",
              " * process.\n",
              " * @param {string} inputId Element ID of the input file picker element.\n",
              " * @param {string} outputId Element ID of the output display.\n",
              " * @return {!Iterable<!Object>} Iterable of next steps.\n",
              " */\n",
              "function* uploadFilesStep(inputId, outputId) {\n",
              "  const inputElement = document.getElementById(inputId);\n",
              "  inputElement.disabled = false;\n",
              "\n",
              "  const outputElement = document.getElementById(outputId);\n",
              "  outputElement.innerHTML = '';\n",
              "\n",
              "  const pickedPromise = new Promise((resolve) => {\n",
              "    inputElement.addEventListener('change', (e) => {\n",
              "      resolve(e.target.files);\n",
              "    });\n",
              "  });\n",
              "\n",
              "  const cancel = document.createElement('button');\n",
              "  inputElement.parentElement.appendChild(cancel);\n",
              "  cancel.textContent = 'Cancel upload';\n",
              "  const cancelPromise = new Promise((resolve) => {\n",
              "    cancel.onclick = () => {\n",
              "      resolve(null);\n",
              "    };\n",
              "  });\n",
              "\n",
              "  // Wait for the user to pick the files.\n",
              "  const files = yield {\n",
              "    promise: Promise.race([pickedPromise, cancelPromise]),\n",
              "    response: {\n",
              "      action: 'starting',\n",
              "    }\n",
              "  };\n",
              "\n",
              "  cancel.remove();\n",
              "\n",
              "  // Disable the input element since further picks are not allowed.\n",
              "  inputElement.disabled = true;\n",
              "\n",
              "  if (!files) {\n",
              "    return {\n",
              "      response: {\n",
              "        action: 'complete',\n",
              "      }\n",
              "    };\n",
              "  }\n",
              "\n",
              "  for (const file of files) {\n",
              "    const li = document.createElement('li');\n",
              "    li.append(span(file.name, {fontWeight: 'bold'}));\n",
              "    li.append(span(\n",
              "        `(${file.type || 'n/a'}) - ${file.size} bytes, ` +\n",
              "        `last modified: ${\n",
              "            file.lastModifiedDate ? file.lastModifiedDate.toLocaleDateString() :\n",
              "                                    'n/a'} - `));\n",
              "    const percent = span('0% done');\n",
              "    li.appendChild(percent);\n",
              "\n",
              "    outputElement.appendChild(li);\n",
              "\n",
              "    const fileDataPromise = new Promise((resolve) => {\n",
              "      const reader = new FileReader();\n",
              "      reader.onload = (e) => {\n",
              "        resolve(e.target.result);\n",
              "      };\n",
              "      reader.readAsArrayBuffer(file);\n",
              "    });\n",
              "    // Wait for the data to be ready.\n",
              "    let fileData = yield {\n",
              "      promise: fileDataPromise,\n",
              "      response: {\n",
              "        action: 'continue',\n",
              "      }\n",
              "    };\n",
              "\n",
              "    // Use a chunked sending to avoid message size limits. See b/62115660.\n",
              "    let position = 0;\n",
              "    do {\n",
              "      const length = Math.min(fileData.byteLength - position, MAX_PAYLOAD_SIZE);\n",
              "      const chunk = new Uint8Array(fileData, position, length);\n",
              "      position += length;\n",
              "\n",
              "      const base64 = btoa(String.fromCharCode.apply(null, chunk));\n",
              "      yield {\n",
              "        response: {\n",
              "          action: 'append',\n",
              "          file: file.name,\n",
              "          data: base64,\n",
              "        },\n",
              "      };\n",
              "\n",
              "      let percentDone = fileData.byteLength === 0 ?\n",
              "          100 :\n",
              "          Math.round((position / fileData.byteLength) * 100);\n",
              "      percent.textContent = `${percentDone}% done`;\n",
              "\n",
              "    } while (position < fileData.byteLength);\n",
              "  }\n",
              "\n",
              "  // All done.\n",
              "  yield {\n",
              "    response: {\n",
              "      action: 'complete',\n",
              "    }\n",
              "  };\n",
              "}\n",
              "\n",
              "scope.google = scope.google || {};\n",
              "scope.google.colab = scope.google.colab || {};\n",
              "scope.google.colab._files = {\n",
              "  _uploadFiles,\n",
              "  _uploadFilesContinue,\n",
              "};\n",
              "})(self);\n",
              "</script> "
            ]
          },
          "metadata": {}
        },
        {
          "output_type": "stream",
          "name": "stdout",
          "text": [
            "Saving synthetic_loans_dataset.csv to synthetic_loans_dataset.csv\n"
          ]
        }
      ]
    },
    {
      "cell_type": "code",
      "source": [
        "import pandas as pd\n",
        "\n",
        "df = pd.read_csv(\"synthetic_loans_dataset.csv\")\n",
        "\n",
        "# Show first 5 rows\n",
        "df.head()\n"
      ],
      "metadata": {
        "colab": {
          "base_uri": "https://localhost:8080/",
          "height": 206
        },
        "id": "V3PeKJcf2zuv",
        "outputId": "24c54771-5dd3-44a7-8ef3-cb873e4e25af"
      },
      "execution_count": 55,
      "outputs": [
        {
          "output_type": "execute_result",
          "data": {
            "text/plain": [
              "   loan_id  customer_age  loan_amount  loan_tenure_months  interest_rate  \\\n",
              "0        1            59       475606                  36           13.4   \n",
              "1        2            49       247932                  60            8.5   \n",
              "2        3            35       167030                  60            7.3   \n",
              "3        4            63       534815                  12           15.9   \n",
              "4        5            28       414819                  12           11.1   \n",
              "\n",
              "   monthly_income  credit_score  default_within_3m  \n",
              "0            2860           537                  1  \n",
              "1           15265           713                  0  \n",
              "2           10685           695                  0  \n",
              "3            4433           493                  1  \n",
              "4            6117           396                  1  "
            ],
            "text/html": [
              "\n",
              "  <div id=\"df-0e950425-aa5f-458d-adce-8ffe2d2ee6a3\" class=\"colab-df-container\">\n",
              "    <div>\n",
              "<style scoped>\n",
              "    .dataframe tbody tr th:only-of-type {\n",
              "        vertical-align: middle;\n",
              "    }\n",
              "\n",
              "    .dataframe tbody tr th {\n",
              "        vertical-align: top;\n",
              "    }\n",
              "\n",
              "    .dataframe thead th {\n",
              "        text-align: right;\n",
              "    }\n",
              "</style>\n",
              "<table border=\"1\" class=\"dataframe\">\n",
              "  <thead>\n",
              "    <tr style=\"text-align: right;\">\n",
              "      <th></th>\n",
              "      <th>loan_id</th>\n",
              "      <th>customer_age</th>\n",
              "      <th>loan_amount</th>\n",
              "      <th>loan_tenure_months</th>\n",
              "      <th>interest_rate</th>\n",
              "      <th>monthly_income</th>\n",
              "      <th>credit_score</th>\n",
              "      <th>default_within_3m</th>\n",
              "    </tr>\n",
              "  </thead>\n",
              "  <tbody>\n",
              "    <tr>\n",
              "      <th>0</th>\n",
              "      <td>1</td>\n",
              "      <td>59</td>\n",
              "      <td>475606</td>\n",
              "      <td>36</td>\n",
              "      <td>13.4</td>\n",
              "      <td>2860</td>\n",
              "      <td>537</td>\n",
              "      <td>1</td>\n",
              "    </tr>\n",
              "    <tr>\n",
              "      <th>1</th>\n",
              "      <td>2</td>\n",
              "      <td>49</td>\n",
              "      <td>247932</td>\n",
              "      <td>60</td>\n",
              "      <td>8.5</td>\n",
              "      <td>15265</td>\n",
              "      <td>713</td>\n",
              "      <td>0</td>\n",
              "    </tr>\n",
              "    <tr>\n",
              "      <th>2</th>\n",
              "      <td>3</td>\n",
              "      <td>35</td>\n",
              "      <td>167030</td>\n",
              "      <td>60</td>\n",
              "      <td>7.3</td>\n",
              "      <td>10685</td>\n",
              "      <td>695</td>\n",
              "      <td>0</td>\n",
              "    </tr>\n",
              "    <tr>\n",
              "      <th>3</th>\n",
              "      <td>4</td>\n",
              "      <td>63</td>\n",
              "      <td>534815</td>\n",
              "      <td>12</td>\n",
              "      <td>15.9</td>\n",
              "      <td>4433</td>\n",
              "      <td>493</td>\n",
              "      <td>1</td>\n",
              "    </tr>\n",
              "    <tr>\n",
              "      <th>4</th>\n",
              "      <td>5</td>\n",
              "      <td>28</td>\n",
              "      <td>414819</td>\n",
              "      <td>12</td>\n",
              "      <td>11.1</td>\n",
              "      <td>6117</td>\n",
              "      <td>396</td>\n",
              "      <td>1</td>\n",
              "    </tr>\n",
              "  </tbody>\n",
              "</table>\n",
              "</div>\n",
              "    <div class=\"colab-df-buttons\">\n",
              "\n",
              "  <div class=\"colab-df-container\">\n",
              "    <button class=\"colab-df-convert\" onclick=\"convertToInteractive('df-0e950425-aa5f-458d-adce-8ffe2d2ee6a3')\"\n",
              "            title=\"Convert this dataframe to an interactive table.\"\n",
              "            style=\"display:none;\">\n",
              "\n",
              "  <svg xmlns=\"http://www.w3.org/2000/svg\" height=\"24px\" viewBox=\"0 -960 960 960\">\n",
              "    <path d=\"M120-120v-720h720v720H120Zm60-500h600v-160H180v160Zm220 220h160v-160H400v160Zm0 220h160v-160H400v160ZM180-400h160v-160H180v160Zm440 0h160v-160H620v160ZM180-180h160v-160H180v160Zm440 0h160v-160H620v160Z\"/>\n",
              "  </svg>\n",
              "    </button>\n",
              "\n",
              "  <style>\n",
              "    .colab-df-container {\n",
              "      display:flex;\n",
              "      gap: 12px;\n",
              "    }\n",
              "\n",
              "    .colab-df-convert {\n",
              "      background-color: #E8F0FE;\n",
              "      border: none;\n",
              "      border-radius: 50%;\n",
              "      cursor: pointer;\n",
              "      display: none;\n",
              "      fill: #1967D2;\n",
              "      height: 32px;\n",
              "      padding: 0 0 0 0;\n",
              "      width: 32px;\n",
              "    }\n",
              "\n",
              "    .colab-df-convert:hover {\n",
              "      background-color: #E2EBFA;\n",
              "      box-shadow: 0px 1px 2px rgba(60, 64, 67, 0.3), 0px 1px 3px 1px rgba(60, 64, 67, 0.15);\n",
              "      fill: #174EA6;\n",
              "    }\n",
              "\n",
              "    .colab-df-buttons div {\n",
              "      margin-bottom: 4px;\n",
              "    }\n",
              "\n",
              "    [theme=dark] .colab-df-convert {\n",
              "      background-color: #3B4455;\n",
              "      fill: #D2E3FC;\n",
              "    }\n",
              "\n",
              "    [theme=dark] .colab-df-convert:hover {\n",
              "      background-color: #434B5C;\n",
              "      box-shadow: 0px 1px 3px 1px rgba(0, 0, 0, 0.15);\n",
              "      filter: drop-shadow(0px 1px 2px rgba(0, 0, 0, 0.3));\n",
              "      fill: #FFFFFF;\n",
              "    }\n",
              "  </style>\n",
              "\n",
              "    <script>\n",
              "      const buttonEl =\n",
              "        document.querySelector('#df-0e950425-aa5f-458d-adce-8ffe2d2ee6a3 button.colab-df-convert');\n",
              "      buttonEl.style.display =\n",
              "        google.colab.kernel.accessAllowed ? 'block' : 'none';\n",
              "\n",
              "      async function convertToInteractive(key) {\n",
              "        const element = document.querySelector('#df-0e950425-aa5f-458d-adce-8ffe2d2ee6a3');\n",
              "        const dataTable =\n",
              "          await google.colab.kernel.invokeFunction('convertToInteractive',\n",
              "                                                    [key], {});\n",
              "        if (!dataTable) return;\n",
              "\n",
              "        const docLinkHtml = 'Like what you see? Visit the ' +\n",
              "          '<a target=\"_blank\" href=https://colab.research.google.com/notebooks/data_table.ipynb>data table notebook</a>'\n",
              "          + ' to learn more about interactive tables.';\n",
              "        element.innerHTML = '';\n",
              "        dataTable['output_type'] = 'display_data';\n",
              "        await google.colab.output.renderOutput(dataTable, element);\n",
              "        const docLink = document.createElement('div');\n",
              "        docLink.innerHTML = docLinkHtml;\n",
              "        element.appendChild(docLink);\n",
              "      }\n",
              "    </script>\n",
              "  </div>\n",
              "\n",
              "\n",
              "    <div id=\"df-304de573-6f89-4c7c-95d7-3b7b732d1d27\">\n",
              "      <button class=\"colab-df-quickchart\" onclick=\"quickchart('df-304de573-6f89-4c7c-95d7-3b7b732d1d27')\"\n",
              "                title=\"Suggest charts\"\n",
              "                style=\"display:none;\">\n",
              "\n",
              "<svg xmlns=\"http://www.w3.org/2000/svg\" height=\"24px\"viewBox=\"0 0 24 24\"\n",
              "     width=\"24px\">\n",
              "    <g>\n",
              "        <path d=\"M19 3H5c-1.1 0-2 .9-2 2v14c0 1.1.9 2 2 2h14c1.1 0 2-.9 2-2V5c0-1.1-.9-2-2-2zM9 17H7v-7h2v7zm4 0h-2V7h2v10zm4 0h-2v-4h2v4z\"/>\n",
              "    </g>\n",
              "</svg>\n",
              "      </button>\n",
              "\n",
              "<style>\n",
              "  .colab-df-quickchart {\n",
              "      --bg-color: #E8F0FE;\n",
              "      --fill-color: #1967D2;\n",
              "      --hover-bg-color: #E2EBFA;\n",
              "      --hover-fill-color: #174EA6;\n",
              "      --disabled-fill-color: #AAA;\n",
              "      --disabled-bg-color: #DDD;\n",
              "  }\n",
              "\n",
              "  [theme=dark] .colab-df-quickchart {\n",
              "      --bg-color: #3B4455;\n",
              "      --fill-color: #D2E3FC;\n",
              "      --hover-bg-color: #434B5C;\n",
              "      --hover-fill-color: #FFFFFF;\n",
              "      --disabled-bg-color: #3B4455;\n",
              "      --disabled-fill-color: #666;\n",
              "  }\n",
              "\n",
              "  .colab-df-quickchart {\n",
              "    background-color: var(--bg-color);\n",
              "    border: none;\n",
              "    border-radius: 50%;\n",
              "    cursor: pointer;\n",
              "    display: none;\n",
              "    fill: var(--fill-color);\n",
              "    height: 32px;\n",
              "    padding: 0;\n",
              "    width: 32px;\n",
              "  }\n",
              "\n",
              "  .colab-df-quickchart:hover {\n",
              "    background-color: var(--hover-bg-color);\n",
              "    box-shadow: 0 1px 2px rgba(60, 64, 67, 0.3), 0 1px 3px 1px rgba(60, 64, 67, 0.15);\n",
              "    fill: var(--button-hover-fill-color);\n",
              "  }\n",
              "\n",
              "  .colab-df-quickchart-complete:disabled,\n",
              "  .colab-df-quickchart-complete:disabled:hover {\n",
              "    background-color: var(--disabled-bg-color);\n",
              "    fill: var(--disabled-fill-color);\n",
              "    box-shadow: none;\n",
              "  }\n",
              "\n",
              "  .colab-df-spinner {\n",
              "    border: 2px solid var(--fill-color);\n",
              "    border-color: transparent;\n",
              "    border-bottom-color: var(--fill-color);\n",
              "    animation:\n",
              "      spin 1s steps(1) infinite;\n",
              "  }\n",
              "\n",
              "  @keyframes spin {\n",
              "    0% {\n",
              "      border-color: transparent;\n",
              "      border-bottom-color: var(--fill-color);\n",
              "      border-left-color: var(--fill-color);\n",
              "    }\n",
              "    20% {\n",
              "      border-color: transparent;\n",
              "      border-left-color: var(--fill-color);\n",
              "      border-top-color: var(--fill-color);\n",
              "    }\n",
              "    30% {\n",
              "      border-color: transparent;\n",
              "      border-left-color: var(--fill-color);\n",
              "      border-top-color: var(--fill-color);\n",
              "      border-right-color: var(--fill-color);\n",
              "    }\n",
              "    40% {\n",
              "      border-color: transparent;\n",
              "      border-right-color: var(--fill-color);\n",
              "      border-top-color: var(--fill-color);\n",
              "    }\n",
              "    60% {\n",
              "      border-color: transparent;\n",
              "      border-right-color: var(--fill-color);\n",
              "    }\n",
              "    80% {\n",
              "      border-color: transparent;\n",
              "      border-right-color: var(--fill-color);\n",
              "      border-bottom-color: var(--fill-color);\n",
              "    }\n",
              "    90% {\n",
              "      border-color: transparent;\n",
              "      border-bottom-color: var(--fill-color);\n",
              "    }\n",
              "  }\n",
              "</style>\n",
              "\n",
              "      <script>\n",
              "        async function quickchart(key) {\n",
              "          const quickchartButtonEl =\n",
              "            document.querySelector('#' + key + ' button');\n",
              "          quickchartButtonEl.disabled = true;  // To prevent multiple clicks.\n",
              "          quickchartButtonEl.classList.add('colab-df-spinner');\n",
              "          try {\n",
              "            const charts = await google.colab.kernel.invokeFunction(\n",
              "                'suggestCharts', [key], {});\n",
              "          } catch (error) {\n",
              "            console.error('Error during call to suggestCharts:', error);\n",
              "          }\n",
              "          quickchartButtonEl.classList.remove('colab-df-spinner');\n",
              "          quickchartButtonEl.classList.add('colab-df-quickchart-complete');\n",
              "        }\n",
              "        (() => {\n",
              "          let quickchartButtonEl =\n",
              "            document.querySelector('#df-304de573-6f89-4c7c-95d7-3b7b732d1d27 button');\n",
              "          quickchartButtonEl.style.display =\n",
              "            google.colab.kernel.accessAllowed ? 'block' : 'none';\n",
              "        })();\n",
              "      </script>\n",
              "    </div>\n",
              "\n",
              "    </div>\n",
              "  </div>\n"
            ],
            "application/vnd.google.colaboratory.intrinsic+json": {
              "type": "dataframe",
              "variable_name": "df",
              "summary": "{\n  \"name\": \"df\",\n  \"rows\": 241,\n  \"fields\": [\n    {\n      \"column\": \"loan_id\",\n      \"properties\": {\n        \"dtype\": \"number\",\n        \"std\": 69,\n        \"min\": 1,\n        \"max\": 241,\n        \"num_unique_values\": 241,\n        \"samples\": [\n          25,\n          7,\n          223\n        ],\n        \"semantic_type\": \"\",\n        \"description\": \"\"\n      }\n    },\n    {\n      \"column\": \"customer_age\",\n      \"properties\": {\n        \"dtype\": \"number\",\n        \"std\": 13,\n        \"min\": 21,\n        \"max\": 65,\n        \"num_unique_values\": 45,\n        \"samples\": [\n          65,\n          57,\n          27\n        ],\n        \"semantic_type\": \"\",\n        \"description\": \"\"\n      }\n    },\n    {\n      \"column\": \"loan_amount\",\n      \"properties\": {\n        \"dtype\": \"number\",\n        \"std\": 179614,\n        \"min\": 82902,\n        \"max\": 726863,\n        \"num_unique_values\": 241,\n        \"samples\": [\n          183908,\n          610769,\n          105911\n        ],\n        \"semantic_type\": \"\",\n        \"description\": \"\"\n      }\n    },\n    {\n      \"column\": \"loan_tenure_months\",\n      \"properties\": {\n        \"dtype\": \"number\",\n        \"std\": 14,\n        \"min\": 12,\n        \"max\": 72,\n        \"num_unique_values\": 6,\n        \"samples\": [\n          36,\n          60,\n          48\n        ],\n        \"semantic_type\": \"\",\n        \"description\": \"\"\n      }\n    },\n    {\n      \"column\": \"interest_rate\",\n      \"properties\": {\n        \"dtype\": \"number\",\n        \"std\": 2.6891014479766975,\n        \"min\": 5.5,\n        \"max\": 17.8,\n        \"num_unique_values\": 100,\n        \"samples\": [\n          12.9,\n          8.4,\n          14.8\n        ],\n        \"semantic_type\": \"\",\n        \"description\": \"\"\n      }\n    },\n    {\n      \"column\": \"monthly_income\",\n      \"properties\": {\n        \"dtype\": \"number\",\n        \"std\": 8093,\n        \"min\": 2064,\n        \"max\": 29875,\n        \"num_unique_values\": 239,\n        \"samples\": [\n          21685,\n          6658,\n          2675\n        ],\n        \"semantic_type\": \"\",\n        \"description\": \"\"\n      }\n    },\n    {\n      \"column\": \"credit_score\",\n      \"properties\": {\n        \"dtype\": \"number\",\n        \"std\": 98,\n        \"min\": 396,\n        \"max\": 809,\n        \"num_unique_values\": 166,\n        \"samples\": [\n          668,\n          658,\n          672\n        ],\n        \"semantic_type\": \"\",\n        \"description\": \"\"\n      }\n    },\n    {\n      \"column\": \"default_within_3m\",\n      \"properties\": {\n        \"dtype\": \"number\",\n        \"std\": 0,\n        \"min\": 0,\n        \"max\": 1,\n        \"num_unique_values\": 2,\n        \"samples\": [\n          0,\n          1\n        ],\n        \"semantic_type\": \"\",\n        \"description\": \"\"\n      }\n    }\n  ]\n}"
            }
          },
          "metadata": {},
          "execution_count": 55
        }
      ]
    },
    {
      "cell_type": "code",
      "source": [
        "# Cell 1 — Start Spark and read your uploaded CSV\n",
        "from pyspark.sql import SparkSession\n",
        "from pyspark.sql.functions import col\n",
        "\n",
        "spark = SparkSession.builder.appName(\"SmartLoan\").getOrCreate()\n",
        "\n",
        "# read the CSV you uploaded earlier\n",
        "csv_path = \"synthetic_loans_dataset.csv\"   # make sure this file is in Colab environment (use files.upload if needed)\n",
        "loan_df = spark.read.option(\"header\", True).option(\"inferSchema\", True).csv(csv_path)\n",
        "\n",
        "print(\"Rows:\", loan_df.count())\n",
        "loan_df.printSchema()\n",
        "loan_df.show(5, truncate=False)\n",
        "\n"
      ],
      "metadata": {
        "colab": {
          "base_uri": "https://localhost:8080/"
        },
        "id": "PodogWF42zzS",
        "outputId": "1c949605-e54a-449a-8853-4c72b7557ce3"
      },
      "execution_count": 56,
      "outputs": [
        {
          "output_type": "stream",
          "name": "stdout",
          "text": [
            "Rows: 241\n",
            "root\n",
            " |-- loan_id: integer (nullable = true)\n",
            " |-- customer_age: integer (nullable = true)\n",
            " |-- loan_amount: integer (nullable = true)\n",
            " |-- loan_tenure_months: integer (nullable = true)\n",
            " |-- interest_rate: double (nullable = true)\n",
            " |-- monthly_income: integer (nullable = true)\n",
            " |-- credit_score: integer (nullable = true)\n",
            " |-- default_within_3m: integer (nullable = true)\n",
            "\n",
            "+-------+------------+-----------+------------------+-------------+--------------+------------+-----------------+\n",
            "|loan_id|customer_age|loan_amount|loan_tenure_months|interest_rate|monthly_income|credit_score|default_within_3m|\n",
            "+-------+------------+-----------+------------------+-------------+--------------+------------+-----------------+\n",
            "|1      |59          |475606     |36                |13.4         |2860          |537         |1                |\n",
            "|2      |49          |247932     |60                |8.5          |15265         |713         |0                |\n",
            "|3      |35          |167030     |60                |7.3          |10685         |695         |0                |\n",
            "|4      |63          |534815     |12                |15.9         |4433          |493         |1                |\n",
            "|5      |28          |414819     |12                |11.1         |6117          |396         |1                |\n",
            "+-------+------------+-----------+------------------+-------------+--------------+------------+-----------------+\n",
            "only showing top 5 rows\n",
            "\n"
          ]
        }
      ]
    },
    {
      "cell_type": "code",
      "source": [
        "#Basic data tests\n",
        "from pyspark.sql.functions import isnan, when, count\n",
        "\n",
        "def basic_data_checks(df):\n",
        "    print(\"Total rows:\", df.count())\n",
        "    # null counts per column\n",
        "    df.select([count(when(col(c).isNull() | isnan(col(c)), c)).alias(c) for c in df.columns]).show(truncate=False)\n",
        "    # sensible ranges\n",
        "    print(\"Credit score min/max:\")\n",
        "    df.selectExpr(\"min(credit_score) as min_cs\", \"max(credit_score) as max_cs\").show()\n",
        "    print(\"Age min/max:\")\n",
        "    df.selectExpr(\"min(customer_age) as min_age\", \"max(customer_age) as max_age\").show()\n",
        "\n",
        "basic_data_checks(loan_df)\n"
      ],
      "metadata": {
        "colab": {
          "base_uri": "https://localhost:8080/"
        },
        "id": "4XDuIdYy3ltv",
        "outputId": "5c2ca801-5ad3-4bbc-f21f-88a72f98e953"
      },
      "execution_count": 57,
      "outputs": [
        {
          "output_type": "stream",
          "name": "stdout",
          "text": [
            "Total rows: 241\n",
            "+-------+------------+-----------+------------------+-------------+--------------+------------+-----------------+\n",
            "|loan_id|customer_age|loan_amount|loan_tenure_months|interest_rate|monthly_income|credit_score|default_within_3m|\n",
            "+-------+------------+-----------+------------------+-------------+--------------+------------+-----------------+\n",
            "|0      |0           |0          |0                 |0            |0             |0           |0                |\n",
            "+-------+------------+-----------+------------------+-------------+--------------+------------+-----------------+\n",
            "\n",
            "Credit score min/max:\n",
            "+------+------+\n",
            "|min_cs|max_cs|\n",
            "+------+------+\n",
            "|   396|   809|\n",
            "+------+------+\n",
            "\n",
            "Age min/max:\n",
            "+-------+-------+\n",
            "|min_age|max_age|\n",
            "+-------+-------+\n",
            "|     21|     65|\n",
            "+-------+-------+\n",
            "\n"
          ]
        }
      ]
    },
    {
      "cell_type": "code",
      "source": [
        "# Simple features\n",
        "from pyspark.sql.functions import expr, round as spark_round, when\n",
        "\n",
        "# estimate emi as loan_amount / tenure (simple proxy)\n",
        "loan_df2 = loan_df.withColumn(\"emi_est\", spark_round(col(\"loan_amount\") / col(\"loan_tenure_months\")))\n",
        "\n",
        "# income to emi ratio (how many EMIs monthly income covers)\n",
        "loan_df2 = loan_df2.withColumn(\"income_to_emi\", spark_round(col(\"monthly_income\") / (col(\"emi_est\") + 1), 2))\n",
        "\n",
        "# simple low-credit flag (business rule)\n",
        "loan_df2 = loan_df2.withColumn(\"low_credit_flag\", when(col(\"credit_score\") < 600, 1).otherwise(0))\n",
        "\n",
        "loan_df2.select(\"loan_id\",\"loan_amount\",\"loan_tenure_months\",\"emi_est\",\"monthly_income\",\"income_to_emi\",\"credit_score\",\"low_credit_flag\").show(8, truncate=False)\n",
        "\n"
      ],
      "metadata": {
        "colab": {
          "base_uri": "https://localhost:8080/"
        },
        "id": "goONT5up3l3s",
        "outputId": "2aaa7f52-01c1-42cf-f560-4aed646bd64d"
      },
      "execution_count": 59,
      "outputs": [
        {
          "output_type": "stream",
          "name": "stdout",
          "text": [
            "+-------+-----------+------------------+-------+--------------+-------------+------------+---------------+\n",
            "|loan_id|loan_amount|loan_tenure_months|emi_est|monthly_income|income_to_emi|credit_score|low_credit_flag|\n",
            "+-------+-----------+------------------+-------+--------------+-------------+------------+---------------+\n",
            "|1      |475606     |36                |13211.0|2860          |0.22         |537         |1              |\n",
            "|2      |247932     |60                |4132.0 |15265         |3.69         |713         |0              |\n",
            "|3      |167030     |60                |2784.0 |10685         |3.84         |695         |0              |\n",
            "|4      |534815     |12                |44568.0|4433          |0.1          |493         |1              |\n",
            "|5      |414819     |12                |34568.0|6117          |0.18         |396         |1              |\n",
            "|6      |438716     |36                |12187.0|4747          |0.39         |509         |1              |\n",
            "|7      |610769     |60                |10179.0|6658          |0.65         |514         |1              |\n",
            "|8      |502336     |72                |6977.0 |5556          |0.8          |424         |1              |\n",
            "+-------+-----------+------------------+-------+--------------+-------------+------------+---------------+\n",
            "only showing top 8 rows\n",
            "\n"
          ]
        }
      ]
    },
    {
      "cell_type": "code",
      "source": [
        "# Save cleaned/preprocessed data (parquet)\n",
        "clean_path = \"cleaned_loans.parquet\"\n",
        "loan_df2.write.mode(\"overwrite\").parquet(clean_path)\n",
        "print(\"Saved cleaned parquet to:\", clean_path)\n",
        "\n"
      ],
      "metadata": {
        "colab": {
          "base_uri": "https://localhost:8080/"
        },
        "id": "_aDrx-gv3l6m",
        "outputId": "fa8c8e4f-b934-45c1-9939-ad537dc034d7"
      },
      "execution_count": 60,
      "outputs": [
        {
          "output_type": "stream",
          "name": "stdout",
          "text": [
            "Saved cleaned parquet to: cleaned_loans.parquet\n"
          ]
        }
      ]
    },
    {
      "cell_type": "code",
      "source": [
        "#Prepare ML features\n",
        "from pyspark.ml.feature import VectorAssembler\n",
        "\n",
        "feature_cols = [\"customer_age\", \"loan_amount\", \"loan_tenure_months\", \"interest_rate\", \"monthly_income\", \"credit_score\", \"income_to_emi\", \"low_credit_flag\"]\n",
        "# drop any pre-existing 'features' col if present\n",
        "if \"features\" in loan_df2.columns:\n",
        "    loan_df2 = loan_df2.drop(\"features\")\n",
        "\n",
        "assembler = VectorAssembler(inputCols=feature_cols, outputCol=\"features\")\n",
        "ml_df = assembler.transform(loan_df2).select(*feature_cols, \"features\", \"default_within_3m\", \"loan_id\")\n",
        "print(\"Prepared ML Data:\")\n",
        "ml_df.show(5, truncate=False)\n"
      ],
      "metadata": {
        "colab": {
          "base_uri": "https://localhost:8080/"
        },
        "id": "wOROYXx_3l9i",
        "outputId": "d1ef117c-9d65-45a9-ad19-030f49dbbef1"
      },
      "execution_count": 61,
      "outputs": [
        {
          "output_type": "stream",
          "name": "stdout",
          "text": [
            "Prepared ML Data:\n",
            "+------------+-----------+------------------+-------------+--------------+------------+-------------+---------------+-----------------------------------------------+-----------------+-------+\n",
            "|customer_age|loan_amount|loan_tenure_months|interest_rate|monthly_income|credit_score|income_to_emi|low_credit_flag|features                                       |default_within_3m|loan_id|\n",
            "+------------+-----------+------------------+-------------+--------------+------------+-------------+---------------+-----------------------------------------------+-----------------+-------+\n",
            "|59          |475606     |36                |13.4         |2860          |537         |0.22         |1              |[59.0,475606.0,36.0,13.4,2860.0,537.0,0.22,1.0]|1                |1      |\n",
            "|49          |247932     |60                |8.5          |15265         |713         |3.69         |0              |[49.0,247932.0,60.0,8.5,15265.0,713.0,3.69,0.0]|0                |2      |\n",
            "|35          |167030     |60                |7.3          |10685         |695         |3.84         |0              |[35.0,167030.0,60.0,7.3,10685.0,695.0,3.84,0.0]|0                |3      |\n",
            "|63          |534815     |12                |15.9         |4433          |493         |0.1          |1              |[63.0,534815.0,12.0,15.9,4433.0,493.0,0.1,1.0] |1                |4      |\n",
            "|28          |414819     |12                |11.1         |6117          |396         |0.18         |1              |[28.0,414819.0,12.0,11.1,6117.0,396.0,0.18,1.0]|1                |5      |\n",
            "+------------+-----------+------------------+-------------+--------------+------------+-------------+---------------+-----------------------------------------------+-----------------+-------+\n",
            "only showing top 5 rows\n",
            "\n"
          ]
        }
      ]
    },
    {
      "cell_type": "code",
      "source": [
        "#Train/test split & logistic regression\n",
        "from pyspark.ml.classification import LogisticRegression\n",
        "from pyspark.ml.evaluation import BinaryClassificationEvaluator\n",
        "\n",
        "train_df, test_df = ml_df.randomSplit([0.8, 0.2], seed=42)\n",
        "print(\"Train rows:\", train_df.count(), \"Test rows:\", test_df.count())\n",
        "\n",
        "lr = LogisticRegression(featuresCol=\"features\", labelCol=\"default_within_3m\", maxIter=20)\n",
        "lr_model = lr.fit(train_df)\n",
        "\n",
        "# predictions on test\n",
        "pred = lr_model.transform(test_df)\n",
        "pred.select(\"loan_id\",\"default_within_3m\",\"prediction\").show(10)\n"
      ],
      "metadata": {
        "colab": {
          "base_uri": "https://localhost:8080/"
        },
        "id": "s8erZ0sK3mAv",
        "outputId": "cd79ca1b-4cdc-449c-d041-6390636d3042"
      },
      "execution_count": 62,
      "outputs": [
        {
          "output_type": "stream",
          "name": "stdout",
          "text": [
            "Train rows: 205 Test rows: 36\n",
            "+-------+-----------------+----------+\n",
            "|loan_id|default_within_3m|prediction|\n",
            "+-------+-----------------+----------+\n",
            "|     90|                1|       1.0|\n",
            "|    201|                0|       0.0|\n",
            "|    210|                1|       1.0|\n",
            "|    202|                1|       1.0|\n",
            "|     36|                0|       0.0|\n",
            "|    216|                1|       0.0|\n",
            "|    221|                1|       1.0|\n",
            "|    181|                1|       1.0|\n",
            "|     97|                1|       1.0|\n",
            "|      5|                1|       1.0|\n",
            "+-------+-----------------+----------+\n",
            "only showing top 10 rows\n",
            "\n"
          ]
        }
      ]
    },
    {
      "cell_type": "code",
      "source": [
        "#Evaluation: AUC and confusion-like counts\n",
        "evaluator = BinaryClassificationEvaluator(labelCol=\"default_within_3m\", rawPredictionCol=\"rawPrediction\", metricName=\"areaUnderROC\")\n",
        "auc = evaluator.evaluate(pred)\n",
        "print(f\"Test AUC: {auc:.3f}\")\n",
        "\n",
        "# Confusion-like counts: TP, FP, TN, FN\n",
        "pred_counts = pred.groupBy(\"default_within_3m\", \"prediction\").count().toPandas()\n",
        "print(\"\\nConfusion counts (default_vs_prediction):\")\n",
        "print(pred_counts)\n"
      ],
      "metadata": {
        "colab": {
          "base_uri": "https://localhost:8080/"
        },
        "id": "p0XHg_wQ3mD9",
        "outputId": "05df52fb-a997-4f98-9765-c349a559041c"
      },
      "execution_count": 63,
      "outputs": [
        {
          "output_type": "stream",
          "name": "stdout",
          "text": [
            "Test AUC: 0.898\n",
            "\n",
            "Confusion counts (default_vs_prediction):\n",
            "   default_within_3m  prediction  count\n",
            "0                  1         0.0      5\n",
            "1                  0         0.0     11\n",
            "2                  1         1.0     20\n"
          ]
        }
      ]
    },
    {
      "cell_type": "code",
      "source": [
        "import pandas as pd\n",
        "\n",
        "df = pd.read_csv(\"synthetic_loans_dataset.csv\")\n",
        "\n",
        "req = [\"loan_id\",\"credit_score\",\"customer_age\",\"loan_amount\",\"loan_tenure_months\",\n",
        "       \"interest_rate\",\"monthly_income\",\"default_within_3m\"]\n",
        "\n",
        "# fail fast if required columns missing\n",
        "miss = [c for c in req if c not in df.columns]\n",
        "if miss:\n",
        "    print(\"FAIL: missing columns:\", miss); raise SystemExit\n",
        "\n",
        "dup_count = df['loan_id'].duplicated(keep=False).sum()\n",
        "bad_credit_count = ((df['credit_score']<300)|(df['credit_score']>850)|df['credit_score'].isna()).sum()\n",
        "missing_over_5 = [c for c in req if df[c].isna().mean() > 0.05]\n",
        "\n",
        "print(\"loan_id duplicates:\", \"FAIL\" if dup_count>0 else \"PASS\", f\"({dup_count})\")\n",
        "print(\"credit_score range:\", \"FAIL\" if bad_credit_count>0 else \"PASS\", f\"({bad_credit_count})\")\n",
        "print(\"missingness >5%:\", \"FAIL\" if missing_over_5 else \"PASS\", missing_over_5)\n",
        "\n",
        "if dup_count==0 and bad_credit_count==0 and not missing_over_5:\n",
        "    print(\"DATA QUALITY: PASS\")\n",
        "else:\n",
        "    print(\"DATA QUALITY: FAIL — inspect above outputs\")\n"
      ],
      "metadata": {
        "colab": {
          "base_uri": "https://localhost:8080/"
        },
        "id": "-bhAup2h3mHX",
        "outputId": "d989a7a8-521e-4746-958a-70a97ad96f7a"
      },
      "execution_count": 64,
      "outputs": [
        {
          "output_type": "stream",
          "name": "stdout",
          "text": [
            "loan_id duplicates: PASS (0)\n",
            "credit_score range: PASS (0)\n",
            "missingness >5%: PASS []\n",
            "DATA QUALITY: PASS\n"
          ]
        }
      ]
    },
    {
      "cell_type": "code",
      "source": [
        "from pyspark.sql import functions as F\n",
        "\n",
        "# filter predicted positives, then show all of them\n",
        "pos = pred.filter(F.col(\"prediction\") == 1.0)\n",
        "n = pos.count()\n",
        "pos.select(\"loan_id\",\"default_within_3m\",\"probability\",\"prediction\") \\\n",
        "   .show(n, truncate=False)\n"
      ],
      "metadata": {
        "colab": {
          "base_uri": "https://localhost:8080/"
        },
        "id": "TwbE9Kxz3mPs",
        "outputId": "ff9c0ec3-7316-4403-e644-fb8b88610023"
      },
      "execution_count": 67,
      "outputs": [
        {
          "output_type": "stream",
          "name": "stdout",
          "text": [
            "+-------+-----------------+----------------------------------------+----------+\n",
            "|loan_id|default_within_3m|probability                             |prediction|\n",
            "+-------+-----------------+----------------------------------------+----------+\n",
            "|90     |1                |[0.20381679687827556,0.7961832031217244]|1.0       |\n",
            "|210    |1                |[0.23587843725919042,0.7641215627408096]|1.0       |\n",
            "|202    |1                |[0.1577410783317988,0.8422589216682013] |1.0       |\n",
            "|221    |1                |[0.1817583783356102,0.8182416216643897] |1.0       |\n",
            "|181    |1                |[0.10416324974231062,0.8958367502576894]|1.0       |\n",
            "|97     |1                |[0.2548331784415525,0.7451668215584475] |1.0       |\n",
            "|5      |1                |[0.22138714304483884,0.7786128569551611]|1.0       |\n",
            "|182    |1                |[0.1988768831518489,0.8011231168481511] |1.0       |\n",
            "|217    |1                |[0.1850512577583378,0.8149487422416621] |1.0       |\n",
            "|239    |1                |[0.19199134816792926,0.8080086518320707]|1.0       |\n",
            "|172    |1                |[0.1349330334049803,0.8650669665950197] |1.0       |\n",
            "|142    |1                |[0.2665339805903893,0.7334660194096108] |1.0       |\n",
            "|215    |1                |[0.146725859734472,0.853274140265528]   |1.0       |\n",
            "|54     |1                |[0.15471522863370168,0.8452847713662983]|1.0       |\n",
            "|154    |1                |[0.10156433321749883,0.8984356667825012]|1.0       |\n",
            "|1      |1                |[0.14090079394051117,0.8590992060594889]|1.0       |\n",
            "|121    |1                |[0.13880125673217256,0.8611987432678274]|1.0       |\n",
            "|106    |1                |[0.18934147222391387,0.8106585277760862]|1.0       |\n",
            "|4      |1                |[0.09679160606748753,0.9032083939325125]|1.0       |\n",
            "|85     |1                |[0.08351936978424337,0.9164806302157567]|1.0       |\n",
            "+-------+-----------------+----------------------------------------+----------+\n",
            "\n"
          ]
        }
      ]
    },
    {
      "cell_type": "code",
      "source": [],
      "metadata": {
        "id": "BwB22N193mST"
      },
      "execution_count": null,
      "outputs": []
    },
    {
      "cell_type": "code",
      "source": [],
      "metadata": {
        "id": "EyupcCKa3mUs"
      },
      "execution_count": null,
      "outputs": []
    },
    {
      "cell_type": "code",
      "source": [],
      "metadata": {
        "id": "hVGZ5D3o3mXq"
      },
      "execution_count": null,
      "outputs": []
    },
    {
      "cell_type": "code",
      "source": [],
      "metadata": {
        "id": "-8ene1BQ3maZ"
      },
      "execution_count": null,
      "outputs": []
    },
    {
      "cell_type": "code",
      "source": [],
      "metadata": {
        "id": "LZ5L1_-S3mdD"
      },
      "execution_count": null,
      "outputs": []
    },
    {
      "cell_type": "code",
      "source": [],
      "metadata": {
        "id": "ozsimbMw3mfx"
      },
      "execution_count": null,
      "outputs": []
    },
    {
      "cell_type": "code",
      "source": [],
      "metadata": {
        "id": "wQ5EpDU-3mic"
      },
      "execution_count": null,
      "outputs": []
    },
    {
      "cell_type": "code",
      "source": [],
      "metadata": {
        "id": "9dM8Lhx_3mky"
      },
      "execution_count": null,
      "outputs": []
    },
    {
      "cell_type": "code",
      "source": [],
      "metadata": {
        "id": "bpof3Aq12z29"
      },
      "execution_count": null,
      "outputs": []
    },
    {
      "cell_type": "code",
      "source": [],
      "metadata": {
        "id": "-BweqvB42z6R"
      },
      "execution_count": null,
      "outputs": []
    }
  ]
}